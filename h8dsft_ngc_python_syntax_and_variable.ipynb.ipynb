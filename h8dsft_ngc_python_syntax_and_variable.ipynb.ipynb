{
  "nbformat": 4,
  "nbformat_minor": 0,
  "metadata": {
    "colab": {
      "provenance": []
    },
    "kernelspec": {
      "name": "python3",
      "display_name": "Python 3"
    },
    "language_info": {
      "name": "python"
    }
  },
  "cells": [
    {
      "cell_type": "markdown",
      "source": [
        "TASK #1\n",
        "\n",
        "Given list of customer_id that doing transaction in 1 day:\n",
        "\n",
        "customer_id = ['B818', 'A461', 'A092', 'A082', 'B341', 'A005', 'A092', 'A461','B219', 'B904', 'A901', 'A083', 'B904', 'A092', 'B341', 'B821','B341', 'B821', 'B904', 'B818', 'A901', 'A083', 'B818', 'A082','B219', 'B219', 'A083', 'A901', 'A082', 'B341', 'B341', 'A083','A082', 'B219', 'B439', 'A461', 'A005', 'A901', 'B341', 'A082','A083', 'A461', 'A083', 'A901', 'A461', 'A083', 'A082', 'A083','B341', 'A901', 'A082', 'A461', 'B219', 'A083', 'B818', 'B821','A092', 'B341', 'A461', 'A092', 'A083', 'B821', 'A092']\n",
        "\n",
        "How many unique customer_id from above list?4\n"
      ],
      "metadata": {
        "id": "7AC2PTopSgXy"
      }
    },
    {
      "cell_type": "code",
      "execution_count": 13,
      "metadata": {
        "colab": {
          "base_uri": "https://localhost:8080/"
        },
        "id": "WIJd1hh5Rwt0",
        "outputId": "446c734e-dcb4-48f1-9dae-3b0b6e81d259"
      },
      "outputs": [
        {
          "output_type": "stream",
          "name": "stdout",
          "text": [
            "12\n"
          ]
        }
      ],
      "source": [
        "customer_id = ['B818', 'A461', 'A092', 'A082', 'B341', 'A005', 'A092', 'A461','B219', 'B904', 'A901', 'A083', 'B904', 'A092', 'B341', 'B821','B341', 'B821', 'B904', 'B818', 'A901',\n",
        "               'A083', 'B818', 'A082','B219', 'B219', 'A083', 'A901', 'A082', 'B341', 'B341', 'A083','A082', 'B219', 'B439', 'A461', 'A005', 'A901', 'B341', 'A082','A083', 'A461',\n",
        "               'A083', 'A901', 'A461', 'A083', 'A082', 'A083','B341', 'A901', 'A082', 'A461', 'B219', 'A083', 'B818', 'B821','A092', 'B341', 'A461', 'A092', 'A083', 'B821', 'A092']\n",
        "customer_id.sort()\n",
        "cust_id = set(customer_id)\n",
        "print(len(cust_id))\n"
      ]
    },
    {
      "cell_type": "code",
      "source": [],
      "metadata": {
        "id": "r03PSjwCT1-_"
      },
      "execution_count": null,
      "outputs": []
    },
    {
      "cell_type": "markdown",
      "source": [
        "TASK #2\n",
        "\n",
        "Given list of:\n",
        "\n",
        "Data = [1, 4, 9, 16, 25, 36, 49,  64, 81, 100]\n",
        "\n",
        "Use indexing so you can get this output:\n",
        "\n",
        "a.16\n",
        "\n",
        "b.[36, 49, 64, 81]\n",
        "\n",
        "c.[100, 81, 64, 49, 36, 25, 16, 9, 4, 1]\n"
      ],
      "metadata": {
        "id": "iIxmIvmJZzp1"
      }
    },
    {
      "cell_type": "code",
      "source": [
        "data = [1, 4, 9, 16, 25, 36, 49, 64, 81, 100]\n",
        "\n",
        "#a\n",
        "print(data[3])\n",
        "\n",
        "#b\n",
        "print(data[-5:-1])\n",
        "\n",
        "#c\n",
        "data.reverse()\n",
        "print(data)"
      ],
      "metadata": {
        "colab": {
          "base_uri": "https://localhost:8080/"
        },
        "id": "lTGmvUevcN9z",
        "outputId": "ce80db33-01c2-4866-9492-7d4543eacded"
      },
      "execution_count": 16,
      "outputs": [
        {
          "output_type": "stream",
          "name": "stdout",
          "text": [
            "16\n",
            "[36, 49, 64, 81]\n",
            "[100, 81, 64, 49, 36, 25, 16, 9, 4, 1]\n"
          ]
        }
      ]
    },
    {
      "cell_type": "markdown",
      "source": [
        "TASK #3\n",
        "\n",
        "Given a dictionary of:\n",
        "\n",
        "provinsi = {'Nanggroe Aceh Darussalam': 'Aceh','Sumatera Selatan': 'Palembang','Kalimantan Barat': 'Pontianak','Jawa Timur': 'Madiun','Sulawesi Selatan': 'Makassar','Maluku': 'Ambon'}\n",
        "\n",
        "What python command can be use to:\n",
        "\n",
        "a.Get list of keys available in dictionary\n",
        "\n",
        "b.Change 'Jawa Timur' value from 'Madiun'  to 'Surabaya'\n"
      ],
      "metadata": {
        "id": "Lh_Y1PS0doM3"
      }
    },
    {
      "cell_type": "code",
      "source": [
        "provinsi = {'Nanggroe Aceh Darussalam': 'Aceh',\n",
        "            'Sumatera Selatan': 'Palembang',\n",
        "            'Kalimantan Barat': 'Pontianak',\n",
        "            'Jawa Timur': 'Madiun',\n",
        "            'Sulawesi Selatan': 'Makassar',\n",
        "            'Maluku': 'Ambon'}\n",
        "\n",
        "#a\n",
        "print(provinsi.keys())\n",
        "\n",
        "#b\n",
        "provinsi['Jawa Timur'] = 'Surabaya'\n",
        "\n",
        "\n",
        "print(provinsi)"
      ],
      "metadata": {
        "colab": {
          "base_uri": "https://localhost:8080/"
        },
        "id": "f1ZVf943cnG8",
        "outputId": "9791de19-1865-4804-815d-997850ea7858"
      },
      "execution_count": 31,
      "outputs": [
        {
          "output_type": "stream",
          "name": "stdout",
          "text": [
            "dict_keys(['Nanggroe Aceh Darussalam', 'Sumatera Selatan', 'Kalimantan Barat', 'Jawa Timur', 'Sulawesi Selatan', 'Maluku'])\n",
            "{'Nanggroe Aceh Darussalam': 'Aceh', 'Sumatera Selatan': 'Palembang', 'Kalimantan Barat': 'Pontianak', 'Jawa Timur': 'Surabaya', 'Sulawesi Selatan': 'Makassar', 'Maluku': 'Ambon'}\n"
          ]
        }
      ]
    },
    {
      "cell_type": "code",
      "source": [],
      "metadata": {
        "id": "J6Ytoz5LfOON"
      },
      "execution_count": null,
      "outputs": []
    }
  ]
}